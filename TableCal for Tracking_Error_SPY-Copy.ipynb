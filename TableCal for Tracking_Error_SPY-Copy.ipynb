{
 "cells": [
  {
   "cell_type": "code",
   "execution_count": 1,
   "id": "579c951b",
   "metadata": {
    "scrolled": true
   },
   "outputs": [
    {
     "name": "stdout",
     "output_type": "stream",
     "text": [
      "            Portfolio_Return\n",
      "Date                        \n",
      "2018-01-02          2.617325\n",
      "2018-01-03          1.414764\n",
      "2018-01-04          0.510852\n",
      "2018-01-05          0.645102\n",
      "2018-01-08          0.689520\n",
      "...                      ...\n",
      "2023-12-22          0.011546\n",
      "2023-12-26          1.379270\n",
      "2023-12-27          0.108159\n",
      "2023-12-28         -0.022742\n",
      "2023-12-29         -0.540332\n",
      "\n",
      "[1509 rows x 1 columns]\n"
     ]
    }
   ],
   "source": [
    "import pandas as pd\n",
    "import numpy as np\n",
    "\n",
    "# Load data\n",
    "df = pd.read_excel('ETF_Data\\data\\pivot_table_2018_2023.xlsx', index_col=0)  # Assuming the date is in the first column\n",
    "\n",
    "# Drop rows with missing values\n",
    "df = df.dropna()\n",
    "\n",
    "df = df.drop('SPY', axis=1, errors='ignore')\n",
    "# df = df.drop('SMH', axis=1, errors='ignore')\n",
    "\n",
    "# Example posterior-optimized weights\n",
    "posterior_optimized_weights = {'BNO': 0.000000000211468,\n",
    "'BOTZ': 0.000000000195465,\n",
    "'CORN': 0.000000000195382,\n",
    "'GLD': 0.000000000208745,\n",
    "'HACK': 0.000000000272507,\n",
    "'IHI': 0.000000000255557,\n",
    "'KBE': 0.000000000202670,\n",
    "'KIE': 0.000000000207288,\n",
    "'KRE': 0.000000000207354,\n",
    "'PALL': 0.000000000200013,\n",
    "'PJP': 0.000000000195684,\n",
    "'PPLT': 0.000000000198367,\n",
    "'QQQ': 0.000000001108942,\n",
    "'SKYY': 0.000000000258680,\n",
    "'SLV': 0.000000000197091,\n",
    "'SMH': 0.999999994000000,\n",
    "'SOYB': 0.000000000205101,\n",
    "'UNG': 0.000000000231356,\n",
    "'USO': 0.000000000210671,\n",
    "'WEAT': 0.000000000206062,\n",
    "'XBI':  0.000000000199030,\n",
    "'XLF': 0.000000000197132,\n",
    "'XLV': 0.000000000218698}\n",
    "\n",
    "# 'SPY': 0.000000000109968,\n",
    "# 'SMH': 0.999999996000000,\n",
    "\n",
    "# Calculate daily returns for each asset\n",
    "asset_returns = df.copy()  # Assuming your DataFrame already contains returns\n",
    "\n",
    "# Check for NaN values in the DataFrame\n",
    "if asset_returns.isna().any().any():\n",
    "    print(\"Warning: NaN values detected in the DataFrame.\")\n",
    "\n",
    "# Replace NaN values with 0 or handle them based on your strategy\n",
    "asset_returns = asset_returns.fillna(0)  # Replace NaN with 0 as an example\n",
    "\n",
    "# Calculate portfolio returns\n",
    "portfolio_returns = (asset_returns * np.array(list(posterior_optimized_weights.values()))).sum(axis=1)\n",
    "\n",
    "# Print the DataFrame with daily returns\n",
    "result_df = pd.DataFrame({'Portfolio_Return': portfolio_returns})\n",
    "print(result_df)"
   ]
  },
  {
   "cell_type": "code",
   "execution_count": 2,
   "id": "a7ff0699",
   "metadata": {},
   "outputs": [
    {
     "name": "stdout",
     "output_type": "stream",
     "text": [
      "                 BNO      BOTZ      CORN       GLD      HACK       IHI  \\\n",
      "Date                                                                     \n",
      "2018-01-02  0.000000  1.265820  0.477042  1.213101  1.643491  1.590683   \n",
      "2018-01-03  1.933704  2.041666 -0.059349 -0.263685  0.995024  1.055204   \n",
      "2018-01-04  0.162595  1.429156 -0.356291  0.512738  0.461827  0.000000   \n",
      "2018-01-05 -0.324672  1.127217 -0.119192 -0.103616  0.275820  1.139616   \n",
      "2018-01-08  0.217150  0.716554 -1.073987 -0.015961  0.886299  0.571715   \n",
      "...              ...       ...       ...       ...       ...       ...   \n",
      "2023-12-22 -0.426587 -0.385967 -0.184668  0.443442  0.414182  0.205455   \n",
      "2023-12-26  2.142093  0.774925  1.387600  0.762073  0.593962  0.559178   \n",
      "2023-12-27 -1.468018  0.279622 -0.821169  0.453784 -0.328031  0.148282   \n",
      "2023-12-28 -2.518627  0.104562 -0.045999 -0.581544 -0.115188  0.166574   \n",
      "2023-12-29 -0.618632 -0.766014 -0.736309 -0.156684 -0.477761 -0.277158   \n",
      "\n",
      "                 KBE       KIE       KRE      PALL  ...      SKYY       SLV  \\\n",
      "Date                                                ...                       \n",
      "2018-01-02  0.274611 -1.270362  0.254888  2.855730  ...  0.806449  1.375856   \n",
      "2018-01-03  0.210656  0.164966  0.186442 -0.976541  ...  1.124325 -0.246755   \n",
      "2018-01-04  0.672692  1.021079  0.541363  1.392248  ...  0.491767  0.371054   \n",
      "2018-01-05  0.563793  0.163023  0.656233 -0.448175  ...  0.404252 -0.061616   \n",
      "2018-01-08 -0.041529 -0.325516 -0.183886  0.574711  ...  0.614539 -0.431564   \n",
      "...              ...       ...       ...       ...  ...       ...       ...   \n",
      "2023-12-22  0.458922  0.424966  0.633637 -0.982580  ...  0.090911 -0.851630   \n",
      "2023-12-26  1.326954  0.089080  1.545509 -2.643212  ...  0.669841  0.361663   \n",
      "2023-12-27 -0.085876  0.155763 -0.169110 -1.325056  ... -0.022552  0.135130   \n",
      "2023-12-28  0.171891  0.399912  0.244678 -2.159823  ...  0.112801 -1.079621   \n",
      "2023-12-29 -1.286998  0.066392 -1.558389 -2.975339  ... -1.216903 -0.954975   \n",
      "\n",
      "                 SMH      SOYB       UNG       USO      WEAT       XBI  \\\n",
      "Date                                                                     \n",
      "2018-01-02  2.617325  0.391508  3.087484  0.499579  1.333332  2.757154   \n",
      "2018-01-03  1.414764  0.389970 -1.663900  2.236955  0.164477  1.330127   \n",
      "2018-01-04  0.510852 -0.332971 -4.060910  0.243110 -0.328407 -1.154243   \n",
      "2018-01-05  0.645102  0.278403 -2.645504 -0.485040 -0.823726 -0.354891   \n",
      "2018-01-08  0.689520 -0.721827  0.996374  0.568641 -0.332226 -1.987596   \n",
      "...              ...       ...       ...       ...       ...       ...   \n",
      "2023-12-22  0.011546  0.000000  1.002008 -0.492534  0.170944  3.484120   \n",
      "2023-12-26  1.379270  1.215469 -2.182542  2.212835  2.901025  2.099973   \n",
      "2023-12-27  0.108159 -0.218339  0.405679 -1.837346 -1.658381  1.531414   \n",
      "2023-12-28 -0.022742 -0.510574  3.838385 -2.524663  1.180441  0.033027   \n",
      "2023-12-29 -0.540332 -0.989738 -1.361862 -0.788923 -0.500003 -1.727933   \n",
      "\n",
      "                 XLF       XLV  \n",
      "Date                            \n",
      "2018-01-02  0.035830  1.124819  \n",
      "2018-01-03  0.537248  0.956827  \n",
      "2018-01-04  0.926257  0.142157  \n",
      "2018-01-05  0.282386  0.851770  \n",
      "2018-01-08 -0.140792 -0.363633  \n",
      "...              ...       ...  \n",
      "2023-12-22  0.214712  0.498696  \n",
      "2023-12-26  0.401718  0.222192  \n",
      "2023-12-27  0.320082  0.421218  \n",
      "2023-12-28  0.292477  0.257566  \n",
      "2023-12-29 -0.318141  0.102759  \n",
      "\n",
      "[1509 rows x 23 columns]\n"
     ]
    }
   ],
   "source": [
    "print(df)"
   ]
  },
  {
   "cell_type": "code",
   "execution_count": 3,
   "id": "a7e5f0db",
   "metadata": {
    "scrolled": false
   },
   "outputs": [
    {
     "name": "stdout",
     "output_type": "stream",
     "text": [
      "Requirement already satisfied: yfinance in c:\\users\\saide\\anaconda3\\envs\\pymc_env\\lib\\site-packages (0.2.35)\n",
      "Requirement already satisfied: pandas>=1.3.0 in c:\\users\\saide\\anaconda3\\envs\\pymc_env\\lib\\site-packages (from yfinance) (2.1.0)\n",
      "Requirement already satisfied: numpy>=1.16.5 in c:\\users\\saide\\anaconda3\\envs\\pymc_env\\lib\\site-packages (from yfinance) (1.24.4)\n",
      "Requirement already satisfied: requests>=2.31 in c:\\users\\saide\\anaconda3\\envs\\pymc_env\\lib\\site-packages (from yfinance) (2.31.0)\n",
      "Requirement already satisfied: multitasking>=0.0.7 in c:\\users\\saide\\anaconda3\\envs\\pymc_env\\lib\\site-packages (from yfinance) (0.0.11)\n",
      "Requirement already satisfied: lxml>=4.9.1 in c:\\users\\saide\\anaconda3\\envs\\pymc_env\\lib\\site-packages (from yfinance) (5.1.0)\n",
      "Requirement already satisfied: appdirs>=1.4.4 in c:\\users\\saide\\anaconda3\\envs\\pymc_env\\lib\\site-packages (from yfinance) (1.4.4)\n",
      "Requirement already satisfied: pytz>=2022.5 in c:\\users\\saide\\anaconda3\\envs\\pymc_env\\lib\\site-packages (from yfinance) (2023.3.post1)\n",
      "Requirement already satisfied: frozendict>=2.3.4 in c:\\users\\saide\\anaconda3\\envs\\pymc_env\\lib\\site-packages (from yfinance) (2.4.0)\n",
      "Requirement already satisfied: peewee>=3.16.2 in c:\\users\\saide\\anaconda3\\envs\\pymc_env\\lib\\site-packages (from yfinance) (3.17.0)\n",
      "Requirement already satisfied: beautifulsoup4>=4.11.1 in c:\\users\\saide\\anaconda3\\envs\\pymc_env\\lib\\site-packages (from yfinance) (4.12.2)\n",
      "Requirement already satisfied: html5lib>=1.1 in c:\\users\\saide\\anaconda3\\envs\\pymc_env\\lib\\site-packages (from yfinance) (1.1)\n",
      "Requirement already satisfied: soupsieve>1.2 in c:\\users\\saide\\anaconda3\\envs\\pymc_env\\lib\\site-packages (from beautifulsoup4>=4.11.1->yfinance) (2.5)\n",
      "Requirement already satisfied: six>=1.9 in c:\\users\\saide\\anaconda3\\envs\\pymc_env\\lib\\site-packages (from html5lib>=1.1->yfinance) (1.16.0)\n",
      "Requirement already satisfied: webencodings in c:\\users\\saide\\anaconda3\\envs\\pymc_env\\lib\\site-packages (from html5lib>=1.1->yfinance) (0.5.1)\n",
      "Requirement already satisfied: python-dateutil>=2.8.2 in c:\\users\\saide\\anaconda3\\envs\\pymc_env\\lib\\site-packages (from pandas>=1.3.0->yfinance) (2.8.2)\n",
      "Requirement already satisfied: tzdata>=2022.1 in c:\\users\\saide\\anaconda3\\envs\\pymc_env\\lib\\site-packages (from pandas>=1.3.0->yfinance) (2023.3)\n",
      "Requirement already satisfied: charset-normalizer<4,>=2 in c:\\users\\saide\\anaconda3\\envs\\pymc_env\\lib\\site-packages (from requests>=2.31->yfinance) (3.3.2)\n",
      "Requirement already satisfied: idna<4,>=2.5 in c:\\users\\saide\\anaconda3\\envs\\pymc_env\\lib\\site-packages (from requests>=2.31->yfinance) (3.6)\n",
      "Requirement already satisfied: urllib3<3,>=1.21.1 in c:\\users\\saide\\anaconda3\\envs\\pymc_env\\lib\\site-packages (from requests>=2.31->yfinance) (2.0.6)\n",
      "Requirement already satisfied: certifi>=2017.4.17 in c:\\users\\saide\\anaconda3\\envs\\pymc_env\\lib\\site-packages (from requests>=2.31->yfinance) (2023.11.17)\n",
      "Note: you may need to restart the kernel to use updated packages.\n"
     ]
    }
   ],
   "source": [
    "pip install yfinance"
   ]
  },
  {
   "cell_type": "code",
   "execution_count": 4,
   "id": "428cedfd",
   "metadata": {},
   "outputs": [
    {
     "name": "stderr",
     "output_type": "stream",
     "text": [
      "\r",
      "[*********************100%%**********************]  1 of 1 completed"
     ]
    },
    {
     "name": "stdout",
     "output_type": "stream",
     "text": [
      "            Return_spy\n",
      "Date                  \n",
      "2022-12-30         NaN\n",
      "2023-01-03   -0.004210\n",
      "2023-01-04    0.007720\n",
      "2023-01-05   -0.011413\n",
      "2023-01-06    0.022932\n",
      "...                ...\n",
      "2023-12-22    0.002010\n",
      "2023-12-26    0.004223\n",
      "2023-12-27    0.001808\n",
      "2023-12-28    0.000378\n",
      "2023-12-29   -0.002895\n",
      "\n",
      "[251 rows x 1 columns]\n"
     ]
    },
    {
     "name": "stderr",
     "output_type": "stream",
     "text": [
      "\n"
     ]
    }
   ],
   "source": [
    "import yfinance as yf\n",
    "import pandas as pd\n",
    "\n",
    "# Download SPY ETF data\n",
    "spy_data = yf.download('SPY', start='2022-12-30', end='2023-12-31')\n",
    "\n",
    "# Calculate daily returns for SPY\n",
    "spy_data['Daily_Return_spy'] = spy_data['Adj Close'].pct_change()\n",
    "\n",
    "# Create a DataFrame for SPY returns with date as index\n",
    "result_spy_df = pd.DataFrame({'Return_spy': spy_data['Daily_Return_spy'].values}, index=spy_data.index)\n",
    "\n",
    "# Print the DataFrame with SPY returns\n",
    "print(result_spy_df)"
   ]
  },
  {
   "cell_type": "code",
   "execution_count": 5,
   "id": "aa3e7a71",
   "metadata": {},
   "outputs": [
    {
     "name": "stdout",
     "output_type": "stream",
     "text": [
      "Information Ratio: 0.13450777756291699\n",
      "Tracking Error: 1.7233518601951303\n"
     ]
    }
   ],
   "source": [
    "import pandas as pd\n",
    "import numpy as np\n",
    "\n",
    "# Assuming 'result_df' and 'result_spy_df' have datetime indices\n",
    "# Create a new DataFrame with common dates and the difference between returns\n",
    "common_dates = result_df.index.intersection(result_spy_df.index)\n",
    "common_dates_2023 = common_dates[(common_dates >= '2023-01-01') & (common_dates <= '2023-12-31')]\n",
    "\n",
    "# Filter returns for common dates within the specified range\n",
    "common_returns_diff = result_df.loc[common_dates_2023, 'Portfolio_Return'] - result_spy_df.loc[common_dates_2023, 'Return_spy']\n",
    "\n",
    "# Create a DataFrame with common dates and returns difference\n",
    "common_returns_df = pd.DataFrame({'Common_Date': common_dates_2023, 'Returns_Difference': common_returns_diff})\n",
    "\n",
    "# Calculate active returns, information ratio, and tracking error\n",
    "information_ratio = np.mean(common_returns_diff) / np.std(common_returns_diff)\n",
    "tracking_error = np.std(common_returns_diff)\n",
    "\n",
    "# Display Information Ratio and Tracking Error\n",
    "print(\"Information Ratio:\", information_ratio)\n",
    "print(\"Tracking Error:\", tracking_error)"
   ]
  },
  {
   "cell_type": "code",
   "execution_count": 6,
   "id": "f6f56456",
   "metadata": {},
   "outputs": [
    {
     "name": "stdout",
     "output_type": "stream",
     "text": [
      "            Portfolio_Return\n",
      "Date                        \n",
      "2018-01-02          2.617325\n",
      "2018-01-03          1.414764\n",
      "2018-01-04          0.510852\n",
      "            Return_spy\n",
      "Date                  \n",
      "2022-12-30         NaN\n",
      "2023-01-03    -0.00421\n",
      "2023-01-04     0.00772\n"
     ]
    }
   ],
   "source": [
    "print(result_df.head(3))\n",
    "print(result_spy_df.head(3))"
   ]
  },
  {
   "cell_type": "code",
   "execution_count": 7,
   "id": "a808d917",
   "metadata": {
    "scrolled": true
   },
   "outputs": [
    {
     "name": "stdout",
     "output_type": "stream",
     "text": [
      "DatetimeIndex(['2023-01-03', '2023-01-04', '2023-01-05', '2023-01-06',\n",
      "               '2023-01-09', '2023-01-10', '2023-01-11', '2023-01-12',\n",
      "               '2023-01-13', '2023-01-17',\n",
      "               ...\n",
      "               '2023-12-15', '2023-12-18', '2023-12-19', '2023-12-20',\n",
      "               '2023-12-21', '2023-12-22', '2023-12-26', '2023-12-27',\n",
      "               '2023-12-28', '2023-12-29'],\n",
      "              dtype='datetime64[ns]', name='Date', length=250, freq=None)\n"
     ]
    }
   ],
   "source": [
    "print(common_dates_2023)"
   ]
  },
  {
   "cell_type": "code",
   "execution_count": null,
   "id": "83b386b4",
   "metadata": {},
   "outputs": [],
   "source": []
  },
  {
   "cell_type": "markdown",
   "id": "70d6379e",
   "metadata": {},
   "source": [
    "#### Now, Calculating for Black Litterman Model 2023"
   ]
  },
  {
   "cell_type": "code",
   "execution_count": 8,
   "id": "ba477c33",
   "metadata": {},
   "outputs": [
    {
     "name": "stdout",
     "output_type": "stream",
     "text": [
      "            Portfolio_Return\n",
      "Date                        \n",
      "2018-01-02          2.617325\n",
      "2018-01-03          1.414764\n",
      "2018-01-04          0.510852\n",
      "2018-01-05          0.645102\n",
      "2018-01-08          0.689520\n",
      "...                      ...\n",
      "2023-12-22          0.011546\n",
      "2023-12-26          1.379270\n",
      "2023-12-27          0.108159\n",
      "2023-12-28         -0.022742\n",
      "2023-12-29         -0.540332\n",
      "\n",
      "[1509 rows x 1 columns]\n"
     ]
    }
   ],
   "source": [
    "import pandas as pd\n",
    "import numpy as np\n",
    "\n",
    "# Load data\n",
    "df = pd.read_excel('ETF_Data\\data\\pivot_table_2018_2023.xlsx', index_col=0)  # Assuming the date is in the first column\n",
    "\n",
    "# Drop rows with missing values\n",
    "df = df.dropna()\n",
    "\n",
    "df = df.drop(['SPY'], axis=1, errors='ignore')\n",
    "\n",
    "# Example posterior-optimized weights\n",
    "posterior_optimized_weights_bl = {'BNO': 0.0,\n",
    "'BOTZ': 0.0,\n",
    "'CORN': 0.0,\n",
    "'GLD': 0.0,\n",
    "'HACK': 0.0,\n",
    "'IHI': 0.0,\n",
    "'KBE': 0.0,\n",
    "'KIE': 0.0,\n",
    "'KRE': 0.0,\n",
    "'PALL': 0.0,\n",
    "'PJP': 0.0,\n",
    "'PPLT': 0.0,\n",
    "'QQQ': 0.0000000000000002,\n",
    "'SKYY': 0.0,\n",
    "'SLV': 0.0,\n",
    "'SMH': 1.0,\n",
    "'SOYB': 0.0,\n",
    "'UNG': 0.0,\n",
    "'USO': 0.0,\n",
    "'WEAT': 0.0,\n",
    "'XBI': 0.0,\n",
    "'XLF': 0.0,\n",
    "'XLV': 0.0}\n",
    "\n",
    "# 'SPY': 0.0,\n",
    "\n",
    "# Calculate daily returns for each asset\n",
    "asset_returns = df.copy()  # Assuming your DataFrame already contains returns\n",
    "\n",
    "# Check for NaN values in the DataFrame\n",
    "if asset_returns.isna().any().any():\n",
    "    print(\"Warning: NaN values detected in the DataFrame.\")\n",
    "\n",
    "# Replace NaN values with 0 or handle them based on your strategy\n",
    "asset_returns = asset_returns.fillna(0)  # Replace NaN with 0 as an example\n",
    "\n",
    "# Calculate portfolio returns\n",
    "portfolio_returns_bl = (asset_returns * np.array(list(posterior_optimized_weights_bl.values()))).sum(axis=1)\n",
    "\n",
    "# Print the DataFrame with daily returns\n",
    "result_df_bl = pd.DataFrame({'Portfolio_Return': portfolio_returns_bl})\n",
    "print(result_df_bl)"
   ]
  },
  {
   "cell_type": "code",
   "execution_count": 12,
   "id": "e507643a",
   "metadata": {},
   "outputs": [
    {
     "name": "stdout",
     "output_type": "stream",
     "text": [
      "Information Ratio_BL: 0.13450777766383826\n",
      "Tracking Error_BL: 1.7233518678183797\n"
     ]
    }
   ],
   "source": [
    "import pandas as pd\n",
    "import numpy as np\n",
    "\n",
    "# Assuming 'result_df_bl' and 'result_shy_df' have datetime indices\n",
    "# Create a new DataFrame with common dates and the difference between returns\n",
    "common_dates = result_df_bl.index.intersection(result_spy_df.index)\n",
    "common_dates_2023 = common_dates[(common_dates >= '2023-01-01') & (common_dates <= '2023-12-31')]\n",
    "\n",
    "# Filter returns for common dates within the specified range\n",
    "common_returns_diff = result_df_bl.loc[common_dates_2023, 'Portfolio_Return'] - result_spy_df.loc[common_dates_2023, 'Return_spy']\n",
    "\n",
    "# Create a DataFrame with common dates and returns difference\n",
    "common_returns_df = pd.DataFrame({'Common_Date': common_dates_2023, 'Returns_Difference': common_returns_diff})\n",
    "\n",
    "# Calculate active returns, information ratio, and tracking error\n",
    "information_ratio = np.mean(common_returns_diff) / np.std(common_returns_diff)\n",
    "tracking_error = np.std(common_returns_diff)\n",
    "\n",
    "# Display Information Ratio and Tracking Error\n",
    "print(\"Information Ratio_BL:\", information_ratio)\n",
    "print(\"Tracking Error_BL:\", tracking_error)"
   ]
  },
  {
   "cell_type": "code",
   "execution_count": null,
   "id": "2ae0ae73",
   "metadata": {},
   "outputs": [],
   "source": [
    "Another Error Raise when calculating the mean_returns at the beginning"
   ]
  }
 ],
 "metadata": {
  "kernelspec": {
   "display_name": "pymc_env",
   "language": "python",
   "name": "pymc_env"
  },
  "language_info": {
   "codemirror_mode": {
    "name": "ipython",
    "version": 3
   },
   "file_extension": ".py",
   "mimetype": "text/x-python",
   "name": "python",
   "nbconvert_exporter": "python",
   "pygments_lexer": "ipython3",
   "version": "3.11.5"
  }
 },
 "nbformat": 4,
 "nbformat_minor": 5
}
