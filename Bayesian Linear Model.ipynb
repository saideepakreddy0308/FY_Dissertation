{
 "cells": [
  {
   "cell_type": "code",
   "execution_count": null,
   "id": "d7c56341",
   "metadata": {},
   "outputs": [],
   "source": [
    "import sys\n",
    "import pymc3 as pm\n",
    "\n",
    "print(\"Python Executable:\", sys.executable)\n",
    "\n",
    "def create_model():\n",
    "    with pm.Model() as model:\n",
    "        alpha = pm.Normal('alpha', mu=0, sigma=1)\n",
    "        beta = pm.Normal('beta', mu=0, sigma=1)\n",
    "        sigma = pm.HalfNormal('sigma', sigma=1)\n",
    "    print(\"Model created successfully.\")\n",
    "\n",
    "# Invoke the function to create the model\n",
    "create_model()\n"
   ]
  },
  {
   "cell_type": "code",
   "execution_count": 2,
   "id": "223155af",
   "metadata": {},
   "outputs": [
    {
     "name": "stderr",
     "output_type": "stream",
     "text": [
      "WARNING (pytensor.tensor.blas): Using NumPy C-API based implementation for BLAS functions.\n"
     ]
    },
    {
     "name": "stdout",
     "output_type": "stream",
     "text": [
      "Python Executable: C:\\Users\\saide\\anaconda3\\envs\\pymc_env\\python.exe\n",
      "Model created successfully.\n"
     ]
    }
   ],
   "source": [
    "import sys\n",
    "import pymc as pm\n",
    "\n",
    "print(\"Python Executable:\", sys.executable)\n",
    "\n",
    "def create_model():\n",
    "    with pm.Model() as model:\n",
    "        alpha = pm.Normal('alpha', mu=0, sigma=1)\n",
    "        beta = pm.Normal('beta', mu=0, sigma=1)\n",
    "        sigma = pm.HalfNormal('sigma', sigma=1)\n",
    "    print(\"Model created successfully.\")\n",
    "\n",
    "# Invoke the function to create the model\n",
    "create_model()\n"
   ]
  },
  {
   "cell_type": "code",
   "execution_count": 3,
   "id": "6aed9145",
   "metadata": {},
   "outputs": [
    {
     "name": "stdout",
     "output_type": "stream",
     "text": [
      "NumPy Version: 1.19.5\n"
     ]
    }
   ],
   "source": [
    "import numpy as np\n",
    "print(\"NumPy Version:\", np.__version__)\n"
   ]
  },
  {
   "cell_type": "code",
   "execution_count": 2,
   "id": "efa447e2",
   "metadata": {},
   "outputs": [
    {
     "name": "stdout",
     "output_type": "stream",
     "text": [
      "1.3.0\n"
     ]
    }
   ],
   "source": [
    "import sklearn\n",
    "print(sklearn.__version__)"
   ]
  },
  {
   "cell_type": "code",
   "execution_count": 1,
   "id": "4cd7c30e",
   "metadata": {
    "scrolled": true
   },
   "outputs": [
    {
     "data": {
      "text/plain": [
       "5"
      ]
     },
     "execution_count": 1,
     "metadata": {},
     "output_type": "execute_result"
    }
   ],
   "source": [
    "2 + 3"
   ]
  },
  {
   "cell_type": "code",
   "execution_count": 3,
   "id": "6f40cf63",
   "metadata": {},
   "outputs": [],
   "source": [
    "import pandas as pd\n",
    "import matplotlib.pyplot as plt\n",
    "import seaborn as sns\n",
    "import logging\n",
    "import pymc as pm\n",
    "import numpy as np\n",
    "from joblib import Parallel, delayed\n",
    "from sklearn.metrics import mean_squared_error  # Directly importing\n",
    "from sklearn.model_selection import train_test_split  # Directly importing\n",
    "import aesara.tensor as at  # Importing Aesara for mathematical operations\n",
    "\n",
    "# Initialize logging\n",
    "logging.basicConfig(filename='data_analysis.log', level=logging.INFO)\n",
    "\n",
    "try:\n",
    "    logging.info('Loading data...')\n",
    "    df = pd.read_csv('etf_data/preprocessed_SPY_2016-01-01_to_2020-12-31.csv')\n",
    "\n",
    "    logging.info('Starting EDA...')\n",
    "    \n",
    "    def plot_data(column):\n",
    "        plt.figure()\n",
    "        sns.histplot(df[column])\n",
    "        plt.title(f'Histogram for {column}')\n",
    "        plt.savefig(f'{column}_hist.png')\n",
    "\n",
    "    Parallel(n_jobs=4)(delayed(plot_data)(col) for col in df.columns)\n",
    "\n",
    "    correlation_matrix = df.corr()\n",
    "    print(correlation_matrix)\n",
    "    logging.info('Correlation matrix computed.')\n",
    "\n",
    "    logging.info('Starting model development...')\n",
    "    \n",
    "    selected_features = df.columns.tolist()\n",
    "    \n",
    "    X_train, X_test, y_train, y_test = train_test_split(df[selected_features], df['target'], test_size=0.2)\n",
    "\n",
    "    with pm.Model() as model:\n",
    "        alpha = pm.Normal('alpha', mu=0, sigma=1)\n",
    "        beta = pm.Normal('beta', mu=0, sigma=1, shape=len(selected_features))\n",
    "        sigma = pm.HalfNormal('sigma', sigma=1)\n",
    "        \n",
    "        mu_value = alpha + at.dot(X_train, beta)  # Using Aesara's dot function\n",
    "        \n",
    "        y_obs = pm.Normal('y_obs', mu=mu_value, sigma=sigma, observed=y_train)\n",
    "        \n",
    "        trace = pm.sample(5000, tune=2000, target_accept=0.9, cores=4)\n",
    "\n",
    "    logging.info('Model trained.')\n",
    "\n",
    "    ppc = pm.sample_posterior_predictive(trace, model=model, samples=5000)\n",
    "    y_pred = ppc['y_obs'].mean(axis=0)\n",
    "    \n",
    "    mse = mean_squared_error(y_test, y_pred)\n",
    "    print('Mean Squared Error:', mse)\n",
    "    logging.info(f'Mean Squared Error: {mse}')\n",
    "\n",
    "except Exception as e:\n",
    "    logging.error(f'An error occurred: {e}')\n"
   ]
  },
  {
   "cell_type": "code",
   "execution_count": null,
   "id": "8a88aa47",
   "metadata": {},
   "outputs": [],
   "source": []
  }
 ],
 "metadata": {
  "kernelspec": {
   "display_name": "pymc_env",
   "language": "python",
   "name": "pymc_env"
  },
  "language_info": {
   "codemirror_mode": {
    "name": "ipython",
    "version": 3
   },
   "file_extension": ".py",
   "mimetype": "text/x-python",
   "name": "python",
   "nbconvert_exporter": "python",
   "pygments_lexer": "ipython3",
   "version": "3.11.5"
  }
 },
 "nbformat": 4,
 "nbformat_minor": 5
}
