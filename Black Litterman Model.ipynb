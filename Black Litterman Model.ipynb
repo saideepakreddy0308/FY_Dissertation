{
 "cells": [
  {
   "cell_type": "code",
   "execution_count": null,
   "id": "75f3eb54",
   "metadata": {},
   "outputs": [],
   "source": [
    "import numpy as np\n",
    "import pandas as pd\n",
    "import statsmodels.api as sm\n",
    "from blacklitterman import BlackLittermanModel\n",
    "\n",
    "# Load the data\n",
    "data = pd.read_csv('etf_data.csv', index_col='Date')\n",
    "\n",
    "# Create the economic indicators dataframe\n",
    "economic_indicators = pd.DataFrame({\n",
    "    'CCI': data['CCI'],\n",
    "    'CLI': data['CLI'],\n",
    "    'BCI': data['BCI'],\n",
    "    'CSI': data['CSI'],\n",
    "    'Unemployment Rate': data['Unemployment Rate'],\n",
    "    'Interest Rate': data['Interest Rate']\n",
    "})\n",
    "\n",
    "# Create the Black-Litterman model\n",
    "blm = BlackLittermanModel(data, economic_indicators)\n",
    "\n",
    "# Set the prior returns\n",
    "blm.set_prior_returns(data.mean(axis=0))\n",
    "\n",
    "# Set the equilibrium covariance matrix\n",
    "blm.set_equilibrium_covariance(data.cov())\n",
    "\n",
    "# Set the investor views\n",
    "# This is where you would specify your own views on the relative performance of the different asset classes.\n",
    "# For example, you might have a view that the technology sector is going to outperform the market in the next year.\n",
    "# You could express this view by setting the view weight for the technology sector to be positive.\n",
    "\n",
    "# For this example, we will use a simple view that all asset classes will perform equally well.\n",
    "blm.set_investor_views(np.zeros(data.shape[1]))\n",
    "\n",
    "# Calculate the posterior returns\n",
    "blm.calculate_posterior_returns()\n",
    "\n",
    "# Calculate the optimal portfolio weights\n",
    "blm.calculate_optimal_portfolio_weights()\n",
    "\n",
    "# Print the optimal portfolio weights\n",
    "print(blm.optimal_portfolio_weights)\n"
   ]
  }
 ],
 "metadata": {
  "kernelspec": {
   "display_name": "pymc_env",
   "language": "python",
   "name": "pymc_env"
  },
  "language_info": {
   "codemirror_mode": {
    "name": "ipython",
    "version": 3
   },
   "file_extension": ".py",
   "mimetype": "text/x-python",
   "name": "python",
   "nbconvert_exporter": "python",
   "pygments_lexer": "ipython3",
   "version": "3.11.5"
  }
 },
 "nbformat": 4,
 "nbformat_minor": 5
}
