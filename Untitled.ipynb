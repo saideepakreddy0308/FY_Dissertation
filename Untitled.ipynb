{
 "cells": [
  {
   "cell_type": "code",
   "execution_count": 3,
   "id": "0f57ecbe",
   "metadata": {},
   "outputs": [
    {
     "name": "stdout",
     "output_type": "stream",
     "text": [
      "WARN: Could not locate executable g77\n",
      "WARN: Could not locate executable f77\n",
      "WARN: Could not locate executable ifort\n",
      "WARN: Could not locate executable ifl\n",
      "WARN: Could not locate executable f90\n",
      "WARN: Could not locate executable DF\n",
      "WARN: Could not locate executable efl\n",
      "WARN: Could not locate executable gfortran\n",
      "WARN: Could not locate executable f95\n",
      "WARN: Could not locate executable g95\n",
      "WARN: Could not locate executable efort\n",
      "WARN: Could not locate executable efc\n",
      "WARN: Could not locate executable flang\n",
      "WARN: don't know how to compile Fortran code on platform 'nt'\n"
     ]
    },
    {
     "name": "stderr",
     "output_type": "stream",
     "text": [
      "WARNING (theano.tensor.blas): Using NumPy C-API based implementation for BLAS functions.\n"
     ]
    },
    {
     "name": "stdout",
     "output_type": "stream",
     "text": [
      "Python Executable: C:\\Users\\saide\\anaconda3\\python.exe\n",
      "Model created successfully.\n"
     ]
    }
   ],
   "source": [
    "import sys\n",
    "import pymc3 as pm\n",
    "\n",
    "print(\"Python Executable:\", sys.executable)\n",
    "\n",
    "def create_model():\n",
    "    with pm.Model() as model:\n",
    "        alpha = pm.Normal('alpha', mu=0, sigma=1)\n",
    "        beta = pm.Normal('beta', mu=0, sigma=1)\n",
    "        sigma = pm.HalfNormal('sigma', sigma=1)\n",
    "    print(\"Model created successfully.\")\n",
    "\n",
    "# Invoke the function to create the model\n",
    "create_model()\n"
   ]
  },
  {
   "cell_type": "code",
   "execution_count": 2,
   "id": "643317c3",
   "metadata": {},
   "outputs": [
    {
     "name": "stdout",
     "output_type": "stream",
     "text": [
      "Collecting pymc3\n",
      "  Using cached pymc3-3.11.5-py3-none-any.whl (872 kB)\n",
      "Requirement already satisfied: numpy<1.22.2,>=1.15.0 in c:\\users\\saide\\anaconda3\\lib\\site-packages (from pymc3) (1.20.1)\n",
      "Requirement already satisfied: typing-extensions>=3.7.4 in c:\\users\\saide\\anaconda3\\lib\\site-packages (from pymc3) (3.7.4.3)\n",
      "Requirement already satisfied: cachetools>=4.2.1 in c:\\users\\saide\\anaconda3\\lib\\site-packages (from pymc3) (4.2.2)\n",
      "Collecting arviz>=0.11.0\n",
      "  Downloading arviz-0.15.1-py3-none-any.whl (1.6 MB)\n",
      "Collecting fastprogress>=0.2.0\n",
      "  Using cached fastprogress-1.0.3-py3-none-any.whl (12 kB)\n",
      "Collecting dill\n",
      "  Using cached dill-0.3.7-py3-none-any.whl (115 kB)\n",
      "Collecting semver>=2.13.0\n",
      "  Using cached semver-3.0.1-py3-none-any.whl (17 kB)\n",
      "Requirement already satisfied: pandas>=0.24.0 in c:\\users\\saide\\anaconda3\\lib\\site-packages (from pymc3) (1.2.4)\n",
      "Collecting deprecat\n",
      "  Using cached deprecat-2.1.1-py2.py3-none-any.whl (9.8 kB)\n",
      "Collecting scipy<1.8.0,>=1.7.3\n",
      "  Downloading scipy-1.7.3-cp38-cp38-win_amd64.whl (34.2 MB)\n",
      "Requirement already satisfied: patsy>=0.5.1 in c:\\users\\saide\\anaconda3\\lib\\site-packages (from pymc3) (0.5.1)\n",
      "Collecting theano-pymc==1.1.2\n",
      "  Using cached Theano-PyMC-1.1.2.tar.gz (1.8 MB)\n",
      "Requirement already satisfied: filelock in c:\\users\\saide\\anaconda3\\lib\\site-packages (from theano-pymc==1.1.2->pymc3) (3.0.12)\n",
      "Collecting h5netcdf>=1.0.2\n",
      "  Downloading h5netcdf-1.1.0-py2.py3-none-any.whl (26 kB)\n",
      "Collecting pandas>=0.24.0\n",
      "  Downloading pandas-2.0.3-cp38-cp38-win_amd64.whl (10.8 MB)\n",
      "Collecting xarray>=0.21.0\n",
      "  Downloading xarray-2023.1.0-py3-none-any.whl (973 kB)\n",
      "Requirement already satisfied: matplotlib>=3.2 in c:\\users\\saide\\anaconda3\\lib\\site-packages (from arviz>=0.11.0->pymc3) (3.3.4)\n",
      "Collecting xarray-einstats>=0.3\n",
      "  Downloading xarray_einstats-0.5.1-py3-none-any.whl (28 kB)\n",
      "Collecting arviz>=0.11.0\n",
      "  Downloading arviz-0.15.0-py3-none-any.whl (1.6 MB)\n",
      "  Downloading arviz-0.14.0-py3-none-any.whl (1.7 MB)\n",
      "Collecting netcdf4\n",
      "  Downloading netCDF4-1.6.4-cp38-cp38-win_amd64.whl (6.6 MB)\n",
      "Collecting arviz>=0.11.0Note: you may need to restart the kernel to use updated packages.\n"
     ]
    },
    {
     "name": "stderr",
     "output_type": "stream",
     "text": [
      "ERROR: pip's dependency resolver does not currently take into account all the packages that are installed. This behaviour is the source of the following dependency conflicts.\n"
     ]
    },
    {
     "name": "stdout",
     "output_type": "stream",
     "text": [
      "\n",
      "  Downloading arviz-0.13.0-py3-none-any.whl (1.7 MB)\n",
      "  Downloading arviz-0.12.1-py3-none-any.whl (1.6 MB)\n",
      "Requirement already satisfied: setuptools>=38.4 in c:\\users\\saide\\anaconda3\\lib\\site-packages (from arviz>=0.11.0->pymc3) (52.0.0.post20210125)\n",
      "Requirement already satisfied: packaging in c:\\users\\saide\\anaconda3\\lib\\site-packages (from arviz>=0.11.0->pymc3) (20.9)\n",
      "Requirement already satisfied: pillow>=6.2.0 in c:\\users\\saide\\anaconda3\\lib\\site-packages (from matplotlib>=3.2->arviz>=0.11.0->pymc3) (8.2.0)\n",
      "Requirement already satisfied: python-dateutil>=2.1 in c:\\users\\saide\\anaconda3\\lib\\site-packages (from matplotlib>=3.2->arviz>=0.11.0->pymc3) (2.8.1)\n",
      "Requirement already satisfied: cycler>=0.10 in c:\\users\\saide\\anaconda3\\lib\\site-packages (from matplotlib>=3.2->arviz>=0.11.0->pymc3) (0.10.0)\n",
      "Requirement already satisfied: pyparsing!=2.0.4,!=2.1.2,!=2.1.6,>=2.0.3 in c:\\users\\saide\\anaconda3\\lib\\site-packages (from matplotlib>=3.2->arviz>=0.11.0->pymc3) (2.4.7)\n",
      "Requirement already satisfied: kiwisolver>=1.0.1 in c:\\users\\saide\\anaconda3\\lib\\site-packages (from matplotlib>=3.2->arviz>=0.11.0->pymc3) (1.3.1)\n",
      "Requirement already satisfied: six in c:\\users\\saide\\anaconda3\\lib\\site-packages (from cycler>=0.10->matplotlib>=3.2->arviz>=0.11.0->pymc3) (1.15.0)\n",
      "Requirement already satisfied: pytz>=2017.3 in c:\\users\\saide\\anaconda3\\lib\\site-packages (from pandas>=0.24.0->pymc3) (2021.1)\n",
      "Collecting packaging\n",
      "  Downloading packaging-23.1-py3-none-any.whl (48 kB)\n",
      "Collecting tzdata>=2022.1\n",
      "  Downloading tzdata-2023.3-py2.py3-none-any.whl (341 kB)\n",
      "Collecting numpy<1.22.2,>=1.15.0\n",
      "  Downloading numpy-1.22.1-cp38-cp38-win_amd64.whl (14.7 MB)\n",
      "Collecting python-dateutil>=2.1\n",
      "  Using cached python_dateutil-2.8.2-py2.py3-none-any.whl (247 kB)\n",
      "Requirement already satisfied: wrapt<2,>=1.10 in c:\\users\\saide\\anaconda3\\lib\\site-packages (from deprecat->pymc3) (1.12.1)\n",
      "Requirement already satisfied: certifi in c:\\users\\saide\\anaconda3\\lib\\site-packages (from netcdf4->arviz>=0.11.0->pymc3) (2020.12.5)\n",
      "Collecting cftime\n",
      "  Downloading cftime-1.6.2-cp38-cp38-win_amd64.whl (171 kB)\n",
      "Building wheels for collected packages: theano-pymc\n",
      "  Building wheel for theano-pymc (setup.py): started\n",
      "  Building wheel for theano-pymc (setup.py): finished with status 'done'\n",
      "  Created wheel for theano-pymc: filename=Theano_PyMC-1.1.2-py3-none-any.whl size=1529958 sha256=4b3f3dfe14ddafbd30900cefbf0e7d741ee1258a4cb5671918e8bf442de7aa02\n",
      "  Stored in directory: c:\\users\\saide\\appdata\\local\\pip\\cache\\wheels\\0e\\41\\d2\\82c7b771236f987def7fe2e51855cce22b270327f3fedec57c\n",
      "Successfully built theano-pymc\n",
      "Installing collected packages: tzdata, python-dateutil, numpy, pandas, packaging, xarray, scipy, cftime, xarray-einstats, netcdf4, theano-pymc, semver, fastprogress, dill, deprecat, arviz, pymc3\n",
      "  Attempting uninstall: python-dateutil\n",
      "    Found existing installation: python-dateutil 2.8.1\n",
      "    Uninstalling python-dateutil-2.8.1:\n",
      "      Successfully uninstalled python-dateutil-2.8.1\n",
      "  Attempting uninstall: numpy\n",
      "    Found existing installation: numpy 1.20.1\n",
      "    Uninstalling numpy-1.20.1:\n",
      "      Successfully uninstalled numpy-1.20.1\n",
      "  Attempting uninstall: pandas\n",
      "    Found existing installation: pandas 1.2.4\n",
      "    Uninstalling pandas-1.2.4:\n",
      "      Successfully uninstalled pandas-1.2.4\n",
      "  Attempting uninstall: packaging\n",
      "    Found existing installation: packaging 20.9\n",
      "    Uninstalling packaging-20.9:\n",
      "      Successfully uninstalled packaging-20.9\n",
      "  Attempting uninstall: scipy\n",
      "    Found existing installation: scipy 1.6.2\n",
      "    Uninstalling scipy-1.6.2:\n",
      "      Successfully uninstalled scipy-1.6.2\n",
      "Successfully installed arviz-0.12.1 cftime-1.6.2 deprecat-2.1.1 dill-0.3.7 fastprogress-1.0.3 netcdf4-1.6.4 numpy-1.22.1 packaging-23.1 pandas-2.0.3 pymc3-3.11.5 python-dateutil-2.8.2 scipy-1.7.3 semver-3.0.1 theano-pymc-1.1.2 tzdata-2023.3 xarray-2023.1.0 xarray-einstats-0.5.1\n"
     ]
    },
    {
     "name": "stderr",
     "output_type": "stream",
     "text": [
      "conda-repo-cli 1.0.4 requires pathlib, which is not installed.\n",
      "tensorflow 2.3.0 requires gast==0.3.3, but you have gast 0.4.0 which is incompatible.\n",
      "tensorflow 2.3.0 requires numpy<1.19.0,>=1.16.0, but you have numpy 1.22.1 which is incompatible.\n",
      "tensorflow 2.3.0 requires scipy==1.4.1, but you have scipy 1.7.3 which is incompatible.\n",
      "tensorflow 2.3.0 requires tensorflow-estimator<2.4.0,>=2.3.0, but you have tensorflow-estimator 2.6.0 which is incompatible.\n"
     ]
    }
   ],
   "source": [
    "pip install pymc3"
   ]
  },
  {
   "cell_type": "code",
   "execution_count": 3,
   "id": "d9413e75",
   "metadata": {
    "collapsed": true
   },
   "outputs": [],
   "source": [
    "import pandas as pd\n",
    "import matplotlib.pyplot as plt\n",
    "import seaborn as sns\n",
    "import logging\n",
    "import pymc3 as pm\n",
    "import numpy as np\n",
    "from joblib import Parallel, delayed\n",
    "import theano.tensor as tt  # Importing theano.tensor to handle PyMC3 math operations\n",
    "\n",
    "# Import sklearn components conditionally to handle missing modules\n",
    "try:\n",
    "    from sklearn.metrics import mean_squared_error\n",
    "    from sklearn.model_selection import train_test_split\n",
    "except ImportError as e:\n",
    "    logging.error(f'Sklearn modules could not be imported: {e}')\n",
    "    raise\n",
    "\n",
    "# Initialize logging\n",
    "logging.basicConfig(filename='data_analysis.log', level=logging.INFO)\n",
    "\n",
    "try:\n",
    "    logging.info('Loading data...')\n",
    "    df = pd.read_csv('etf_data/preprocessed_SPY_2016-01-01_to_2020-12-31.csv')\n",
    "\n",
    "    logging.info('Starting EDA...')\n",
    "    \n",
    "    def plot_data(column):\n",
    "        plt.figure()\n",
    "        sns.histplot(df[column])\n",
    "        plt.title(f'Histogram for {column}')\n",
    "        plt.savefig(f'{column}_hist.png')\n",
    "\n",
    "    Parallel(n_jobs=4)(delayed(plot_data)(col) for col in df.columns)\n",
    "\n",
    "    correlation_matrix = df.corr()\n",
    "    print(correlation_matrix)\n",
    "    logging.info('Correlation matrix computed.')\n",
    "\n",
    "    logging.info('Starting model development...')\n",
    "    \n",
    "    selected_features = df.columns.tolist()\n",
    "    \n",
    "    X_train, X_test, y_train, y_test = train_test_split(df[selected_features], df['target'], test_size=0.2)\n",
    "\n",
    "    with pm.Model() as model:  # Using fully qualified name for PyMC3's Model\n",
    "        alpha = pm.Normal('alpha', mu=0, sigma=1)\n",
    "        beta = pm.Normal('beta', mu=0, sigma=1, shape=len(selected_features))\n",
    "        sigma = pm.HalfNormal('sigma', sigma=1)\n",
    "        \n",
    "        mu_value = alpha + tt.dot(X_train, beta)  # Avoiding reassignment by using mu_value\n",
    "        y_obs = pm.Normal('y_obs', mu=mu_value, sigma=sigma, observed=y_train)  # Using mu_value\n",
    "        \n",
    "        trace = pm.sample(5000, tune=2000, target_accept=0.9, cores=4)\n",
    "\n",
    "    logging.info('Model trained.')\n",
    "\n",
    "    ppc = pm.sample_posterior_predictive(trace, model=model, samples=5000)\n",
    "    y_pred = ppc['y_obs'].mean(axis=0)\n",
    "    \n",
    "    mse = mean_squared_error(y_test, y_pred)\n",
    "    print('Mean Squared Error:', mse)\n",
    "    logging.info(f'Mean Squared Error: {mse}')\n",
    "\n",
    "except Exception as e:\n",
    "    logging.error(f'An error occurred: {e}')\n"
   ]
  },
  {
   "cell_type": "code",
   "execution_count": null,
   "id": "8ba2ca89",
   "metadata": {},
   "outputs": [],
   "source": []
  }
 ],
 "metadata": {
  "kernelspec": {
   "display_name": "Python 3",
   "language": "python",
   "name": "python3"
  },
  "language_info": {
   "codemirror_mode": {
    "name": "ipython",
    "version": 3
   },
   "file_extension": ".py",
   "mimetype": "text/x-python",
   "name": "python",
   "nbconvert_exporter": "python",
   "pygments_lexer": "ipython3",
   "version": "3.8.8"
  }
 },
 "nbformat": 4,
 "nbformat_minor": 5
}
